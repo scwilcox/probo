{
 "cells": [
  {
   "cell_type": "code",
   "execution_count": 16,
   "metadata": {},
   "outputs": [
    {
     "name": "stdout",
     "output_type": "stream",
     "text": [
      "The call price via barrier is: 4.257\n",
      "The standard error via barrier is: 0.112\n",
      "The call price via stratified is: 4.293\n",
      "The standard error via stratified is: 0.118\n"
     ]
    }
   ],
   "source": [
    "from probo.marketdata import MarketData\n",
    "from probo.payoff import VanillaPayoff, call_payoff\n",
    "from probo.engine import MonteCarloEngine, BarrierPricer, StratifiedMonteCarloPricer\n",
    "from probo.facade import OptionFacade\n",
    "\n",
    "##Market data\n",
    "spot = 100\n",
    "rate = 0.06\n",
    "volatility = 0.2\n",
    "dividend = 0.03\n",
    "barrier = 99\n",
    "thedata = MarketData(spot, rate, volatility, dividend, barrier)\n",
    "\n",
    "##Set up option\n",
    "expiry = 1.0\n",
    "strike = 100\n",
    "thecall = VanillaPayoff(expiry, strike, call_payoff)\n",
    "\n",
    "##Naive Monte Carlo\n",
    "nreps = 10000\n",
    "steps = 16\n",
    "pricer1 = BarrierPricer\n",
    "pricer2 = StratifiedMonteCarloPricer\n",
    "mcengine1 = MonteCarloEngine(nreps, steps, pricer1)\n",
    "mcengine2 = MonteCarloEngine(nreps, steps, pricer2)\n",
    "\n",
    "##Calculate price\n",
    "option1 = OptionFacade(thecall, mcengine1, thedata)\n",
    "price1, se1 = option1.price()\n",
    "print(\"The call price via barrier is: {0:.3f}\".format(price1))\n",
    "print(\"The standard error via barrier is: {0:.3f}\".format(se1))\n",
    "\n",
    "option2 = OptionFacade(thecall, mcengine2, thedata)\n",
    "price2, se2 = option2.price()\n",
    "print(\"The call price via stratified is: {0:.3f}\".format(price2))\n",
    "print(\"The standard error via stratified is: {0:.3f}\".format(se2))"
   ]
  },
  {
   "cell_type": "code",
   "execution_count": null,
   "metadata": {},
   "outputs": [],
   "source": []
  }
 ],
 "metadata": {
  "kernelspec": {
   "display_name": "Python 3",
   "language": "python",
   "name": "python3"
  },
  "language_info": {
   "codemirror_mode": {
    "name": "ipython",
    "version": 3
   },
   "file_extension": ".py",
   "mimetype": "text/x-python",
   "name": "python",
   "nbconvert_exporter": "python",
   "pygments_lexer": "ipython3",
   "version": "3.6.5"
  }
 },
 "nbformat": 4,
 "nbformat_minor": 2
}
